{
 "cells": [
  {
   "cell_type": "code",
   "execution_count": 1,
   "id": "1b4bf1f5",
   "metadata": {},
   "outputs": [],
   "source": [
    "import tensorflow as tf\n",
    "from tensorflow.keras.preprocessing.sequence import pad_sequences\n",
    "from tensorflow.keras.callbacks import EarlyStopping, ModelCheckpoint\n",
    "from tensorflow.keras import layers\n",
    "\n",
    "import numpy as np\n",
    "import pandas as pd\n",
    "import matplotlib.pyplot as plt\n",
    "import json\n",
    "import os\n",
    "from tqdm import tqdm"
   ]
  },
  {
   "cell_type": "code",
   "execution_count": 2,
   "id": "ee2e4651",
   "metadata": {},
   "outputs": [],
   "source": [
    "#전처리한 데이터들 불러오기.\n",
    "DATA_IN_PATH = '../../../big_data_sample/pbl/with_soa/'\n",
    "DATA_OUT_PATH = '../../../big_data_sample/pbl/with_soa/data_out/' \n",
    "TRAIN_INPUT_DATA = 'real_train_input.npy'\n",
    "TRAIN_LABEL_DATA = 'real_train_label.npy'\n",
    "DATA_CONFIGS = 'real_data_configs.json'\n",
    "\n",
    "train_input = np.load(open(DATA_OUT_PATH + TRAIN_INPUT_DATA, 'rb'))\n",
    "train_input = pad_sequences(train_input, maxlen=train_input.shape[1])\n",
    "train_label = np.load(open(DATA_OUT_PATH + TRAIN_LABEL_DATA, 'rb'))\n",
    "#prepro_configs = json.load(open(DATA_IN_PATH + DATA_CONFIGS, 'r'))\n",
    "prepro_configs = json.load(open(DATA_OUT_PATH + DATA_CONFIGS, 'rt', encoding='UTF8'))"
   ]
  },
  {
   "cell_type": "markdown",
   "id": "2f1b5da4",
   "metadata": {},
   "source": [
    "<h1>시각화 함수 </h1>"
   ]
  },
  {
   "cell_type": "code",
   "execution_count": 3,
   "id": "aa1e31ff",
   "metadata": {},
   "outputs": [],
   "source": [
    "def plot_graphs(history, string):\n",
    "    plt.plot(history.history[string])\n",
    "    plt.plot(history.history['val_'+string], '')\n",
    "    plt.xlabel(\"Epochs\")\n",
    "    plt.ylabel(string)\n",
    "    plt.legend([string, 'val_'+string])\n",
    "    plt.show()"
   ]
  },
  {
   "cell_type": "markdown",
   "id": "0852ec30",
   "metadata": {},
   "source": [
    "<h1>모델 선언 및 컴파일 </h1>"
   ]
  },
  {
   "cell_type": "code",
   "execution_count": 4,
   "id": "bc06fd9a",
   "metadata": {},
   "outputs": [],
   "source": [
    "model_name = 'real_classifier_kr'\n",
    "BATCH_SIZE = 128\n",
    "NUM_EPOCHS = 10\n",
    "VALID_SPLIT = 0.1\n",
    "MAX_LEN = train_input.shape[1]\n",
    "\n",
    "kargs = {'model_name': model_name,\n",
    "        'vocab_size': prepro_configs['vocab_size'],\n",
    "        'embedding_size': 128,\n",
    "        'num_filters': 100,\n",
    "        'dropout_rate': 0.5,\n",
    "        'hidden_dimension': 250,\n",
    "        'output_dimension':1}"
   ]
  },
  {
   "cell_type": "code",
   "execution_count": 5,
   "id": "876b83af",
   "metadata": {},
   "outputs": [],
   "source": [
    "class CNNClassifier(tf.keras.Model):\n",
    "    \n",
    "    def __init__(self, **kargs):\n",
    "        super(CNNClassifier, self).__init__(name=kargs['model_name'])\n",
    "        self.embedding = layers.Embedding(input_dim=kargs['vocab_size'],\n",
    "                                     output_dim=kargs['embedding_size'])\n",
    "        self.conv_list = [layers.Conv1D(filters=kargs['num_filters'],\n",
    "                                   kernel_size=kernel_size,\n",
    "                                   padding='valid',\n",
    "                                   activation=tf.keras.activations.relu,\n",
    "                                   kernel_constraint=tf.keras.constraints.MaxNorm(max_value=3.))\n",
    "                     for kernel_size in [3,4,5]]\n",
    "        self.pooling = layers.GlobalMaxPooling1D()\n",
    "        self.dropout = layers.Dropout(kargs['dropout_rate'])\n",
    "        self.fc1 = layers.Dense(units=kargs['hidden_dimension'],\n",
    "                           activation=tf.keras.activations.relu,\n",
    "                           kernel_constraint=tf.keras.constraints.MaxNorm(max_value=3.))\n",
    "        self.fc2 = layers.Dense(units=kargs['output_dimension'],\n",
    "                           activation=tf.keras.activations.sigmoid,\n",
    "                           kernel_constraint=tf.keras.constraints.MaxNorm(max_value=3.))\n",
    "    \n",
    "    def call(self, x):\n",
    "        x = self.embedding(x)\n",
    "        x = self.dropout(x)\n",
    "        x = tf.concat([self.pooling(conv(x)) for conv in self.conv_list], axis=-1)\n",
    "        x = self.fc1(x)\n",
    "        x = self.fc2(x)\n",
    "        \n",
    "        return x"
   ]
  },
  {
   "cell_type": "code",
   "execution_count": 6,
   "id": "411c7500",
   "metadata": {},
   "outputs": [],
   "source": [
    "model = CNNClassifier(**kargs)\n",
    "\n",
    "model.compile(optimizer=tf.keras.optimizers.Adam(),\n",
    "             loss=tf.keras.losses.BinaryCrossentropy(),\n",
    "             metrics=[tf.keras.metrics.BinaryAccuracy(name='accuracy')])"
   ]
  },
  {
   "cell_type": "code",
   "execution_count": 7,
   "id": "3041c2cc",
   "metadata": {},
   "outputs": [
    {
     "name": "stdout",
     "output_type": "stream",
     "text": [
      "../../../big_data_sample/pbl/with_soa/data_out/real_classifier_kr -- Folder already exists \n",
      "\n"
     ]
    }
   ],
   "source": [
    "# overfitting을 막기 위한 ealrystop 추가\n",
    "earlystop_callback = EarlyStopping(monitor='val_accuracy', min_delta=0.0001,patience=2)\n",
    "checkpoint_path = DATA_OUT_PATH + model_name + '/weights.h5'\n",
    "checkpoint_dir = os.path.dirname(checkpoint_path)\n",
    "\n",
    "if os.path.exists(checkpoint_dir):\n",
    "    print(\"{} -- Folder already exists \\n\".format(checkpoint_dir))\n",
    "else:\n",
    "    os.makedirs(checkpoint_dir, exist_ok=True)\n",
    "    print(\"{} -- Folder create complete \\n\".format(checkpoint_dir))\n",
    "    \n",
    "\n",
    "cp_callback = ModelCheckpoint(\n",
    "    checkpoint_path, monitor='val_accuracy', verbose=1, save_best_only=True, save_weights_only=True)"
   ]
  },
  {
   "cell_type": "code",
   "execution_count": 8,
   "id": "588966f8",
   "metadata": {},
   "outputs": [
    {
     "name": "stdout",
     "output_type": "stream",
     "text": [
      "Epoch 1/10\n",
      "46/46 [==============================] - 4s 74ms/step - loss: 0.5743 - accuracy: 0.7002 - val_loss: 0.4555 - val_accuracy: 0.8003\n",
      "\n",
      "Epoch 00001: val_accuracy improved from -inf to 0.80031, saving model to ../../../big_data_sample/pbl/with_soa/data_out/real_classifier_kr\\weights.h5\n",
      "Epoch 2/10\n",
      "46/46 [==============================] - 3s 70ms/step - loss: 0.1224 - accuracy: 0.9556 - val_loss: 0.2206 - val_accuracy: 0.9386\n",
      "\n",
      "Epoch 00002: val_accuracy improved from 0.80031 to 0.93856, saving model to ../../../big_data_sample/pbl/with_soa/data_out/real_classifier_kr\\weights.h5\n",
      "Epoch 3/10\n",
      "46/46 [==============================] - 3s 71ms/step - loss: 0.0300 - accuracy: 0.9908 - val_loss: 0.2165 - val_accuracy: 0.9386\n",
      "\n",
      "Epoch 00003: val_accuracy did not improve from 0.93856\n",
      "Epoch 4/10\n",
      "46/46 [==============================] - 3s 70ms/step - loss: 0.0086 - accuracy: 0.9981 - val_loss: 0.1987 - val_accuracy: 0.9462\n",
      "\n",
      "Epoch 00004: val_accuracy improved from 0.93856 to 0.94624, saving model to ../../../big_data_sample/pbl/with_soa/data_out/real_classifier_kr\\weights.h5\n",
      "Epoch 5/10\n",
      "46/46 [==============================] - 3s 73ms/step - loss: 0.0050 - accuracy: 0.9990 - val_loss: 0.2436 - val_accuracy: 0.9339\n",
      "\n",
      "Epoch 00005: val_accuracy did not improve from 0.94624\n",
      "Epoch 6/10\n",
      "46/46 [==============================] - 3s 71ms/step - loss: 0.0039 - accuracy: 0.9991 - val_loss: 0.2354 - val_accuracy: 0.9386\n",
      "\n",
      "Epoch 00006: val_accuracy did not improve from 0.94624\n"
     ]
    }
   ],
   "source": [
    "history = model.fit(train_input, train_label, batch_size=BATCH_SIZE, epochs=NUM_EPOCHS,\n",
    "                    validation_split=VALID_SPLIT, callbacks=[earlystop_callback, cp_callback])"
   ]
  },
  {
   "cell_type": "code",
   "execution_count": 9,
   "id": "8c7321ab",
   "metadata": {},
   "outputs": [
    {
     "data": {
      "image/png": "[encoded data removed]",
      "text/plain": [
       "<Figure size 432x288 with 1 Axes>"
      ]
     },
     "metadata": {
      "needs_background": "light"
     },
     "output_type": "display_data"
    }
   ],
   "source": [
    "plot_graphs(history, 'loss')"
   ]
  },
  {
   "cell_type": "code",
   "execution_count": 10,
   "id": "07e73898",
   "metadata": {},
   "outputs": [
    {
     "data": {
      "image/png": "[encoded data removed]",
      "text/plain": [
       "<Figure size 432x288 with 1 Axes>"
      ]
     },
     "metadata": {
      "needs_background": "light"
     },
     "output_type": "display_data"
    }
   ],
   "source": [
    "plot_graphs(history, 'accuracy')"
   ]
  },
  {
   "cell_type": "markdown",
   "id": "0cc352b6",
   "metadata": {},
   "source": [
    "<h2>모델 테스트<h2>"
   ]
  },
  {
   "cell_type": "code",
   "execution_count": 11,
   "id": "659391fa",
   "metadata": {},
   "outputs": [],
   "source": [
    "DF_TEST_DATA = 'real_test_input.npy'\n",
    "DF_TEST_LABEL = 'real_test_label.npy'\n",
    "SAVE_FILE_NM = 'weights.h5' #저장된 best model 이름\n",
    "\n",
    "test_input = np.load(open(DATA_OUT_PATH + DF_TEST_DATA, 'rb'))\n",
    "test_input = pad_sequences(test_input, maxlen=test_input.shape[1])\n",
    "test_label_data = np.load(open(DATA_OUT_PATH + DF_TEST_LABEL , 'rb'))"
   ]
  },
  {
   "cell_type": "code",
   "execution_count": 12,
   "id": "ab770ed8",
   "metadata": {},
   "outputs": [],
   "source": [
    "model.load_weights(os.path.join(DATA_OUT_PATH, model_name, SAVE_FILE_NM))"
   ]
  },
  {
   "cell_type": "code",
   "execution_count": 13,
   "id": "d7af604e",
   "metadata": {},
   "outputs": [
    {
     "name": "stdout",
     "output_type": "stream",
     "text": [
      "204/204 [==============================] - 1s 4ms/step - loss: 0.1833 - accuracy: 0.9462: 0s - loss:\n"
     ]
    },
    {
     "data": {
      "text/plain": [
       "[0.18333077430725098, 0.9462035298347473]"
      ]
     },
     "execution_count": 13,
     "metadata": {},
     "output_type": "execute_result"
    }
   ],
   "source": [
    "model.evaluate(test_input, test_label_data)"
   ]
  },
  {
   "cell_type": "code",
   "execution_count": null,
   "id": "1ecb7918",
   "metadata": {},
   "outputs": [],
   "source": []
  },
  {
   "cell_type": "code",
   "execution_count": null,
   "id": "60794a2b",
   "metadata": {},
   "outputs": [],
   "source": []
  },
  {
   "cell_type": "code",
   "execution_count": null,
   "id": "efe9ba9b",
   "metadata": {},
   "outputs": [],
   "source": []
  }
 ],
 "metadata": {
  "kernelspec": {
   "display_name": "Python 3",
   "language": "python",
   "name": "python3"
  },
  "language_info": {
   "codemirror_mode": {
    "name": "ipython",
    "version": 3
   },
   "file_extension": ".py",
   "mimetype": "text/x-python",
   "name": "python",
   "nbconvert_exporter": "python",
   "pygments_lexer": "ipython3",
   "version": "3.6.13"
  }
 },
 "nbformat": 4,
 "nbformat_minor": 5
}
