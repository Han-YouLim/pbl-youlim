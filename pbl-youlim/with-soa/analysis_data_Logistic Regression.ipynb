{
 "cells": [
  {
   "cell_type": "markdown",
   "id": "14976cd9",
   "metadata": {},
   "source": [
    "# 1.데이터 읽기"
   ]
  },
  {
   "cell_type": "code",
   "execution_count": 56,
   "id": "5790820b",
   "metadata": {},
   "outputs": [],
   "source": [
    "import warnings\n",
    "warnings.filterwarnings(action='ignore')\n",
    "import pandas as pd\n",
    "import os\n",
    "import numpy as np\n",
    "import matplotlib.pyplot as plt\n",
    "import seaborn as sns\n",
    "from pathlib import Path\n",
    "%matplotlib inline"
   ]
  },
  {
   "cell_type": "code",
   "execution_count": 57,
   "id": "b559b043",
   "metadata": {},
   "outputs": [],
   "source": [
    "def kaggle_format(df):\n",
    "    df['label'][df['label'] == 'none'] = 0\n",
    "    df['label'][df['label'] == 'offensive'] = 1\n",
    "    return df"
   ]
  },
  {
   "cell_type": "code",
   "execution_count": 58,
   "id": "773c4a66",
   "metadata": {},
   "outputs": [
    {
     "data": {
      "text/html": [
       "<div>\n",
       "<style scoped>\n",
       "    .dataframe tbody tr th:only-of-type {\n",
       "        vertical-align: middle;\n",
       "    }\n",
       "\n",
       "    .dataframe tbody tr th {\n",
       "        vertical-align: top;\n",
       "    }\n",
       "\n",
       "    .dataframe thead th {\n",
       "        text-align: right;\n",
       "    }\n",
       "</style>\n",
       "<table border=\"1\" class=\"dataframe\">\n",
       "  <thead>\n",
       "    <tr style=\"text-align: right;\">\n",
       "      <th></th>\n",
       "      <th>comments</th>\n",
       "      <th>label</th>\n",
       "    </tr>\n",
       "  </thead>\n",
       "  <tbody>\n",
       "    <tr>\n",
       "      <th>0</th>\n",
       "      <td>개같은 소리 하지마</td>\n",
       "      <td>1</td>\n",
       "    </tr>\n",
       "    <tr>\n",
       "      <th>1</th>\n",
       "      <td>좌배 까는건 ㅇㅂ</td>\n",
       "      <td>1</td>\n",
       "    </tr>\n",
       "    <tr>\n",
       "      <th>2</th>\n",
       "      <td>개소리야 니가 빨갱이를 옹호하고 드루킹을 ㅇㅇ짓이라고 말못해서 삐진거야 빨갱아</td>\n",
       "      <td>1</td>\n",
       "    </tr>\n",
       "    <tr>\n",
       "      <th>3</th>\n",
       "      <td>애새끼가 초딩도 아니고 ㅋㅋㅋㅋ</td>\n",
       "      <td>1</td>\n",
       "    </tr>\n",
       "    <tr>\n",
       "      <th>4</th>\n",
       "      <td>731부대의 후예라 그런지 가학적인 아이디어는 세계최고임 이래서 애교만 떨어도 돈 ...</td>\n",
       "      <td>1</td>\n",
       "    </tr>\n",
       "  </tbody>\n",
       "</table>\n",
       "</div>"
      ],
      "text/plain": [
       "                                            comments label\n",
       "0                                         개같은 소리 하지마     1\n",
       "1                                          좌배 까는건 ㅇㅂ     1\n",
       "2        개소리야 니가 빨갱이를 옹호하고 드루킹을 ㅇㅇ짓이라고 말못해서 삐진거야 빨갱아     1\n",
       "3                                  애새끼가 초딩도 아니고 ㅋㅋㅋㅋ     1\n",
       "4  731부대의 후예라 그런지 가학적인 아이디어는 세계최고임 이래서 애교만 떨어도 돈 ...     1"
      ]
     },
     "execution_count": 58,
     "metadata": {},
     "output_type": "execute_result"
    }
   ],
   "source": [
    "df = pd.read_csv('../../../big_data_sample/pbl/with_soa/clean_dataset.csv',sep = ',',\n",
    "                 names=['comments', 'label'], header=None, quoting=3)\n",
    "df.head()\n"
   ]
  },
  {
   "cell_type": "code",
   "execution_count": 59,
   "id": "eee4c4fe",
   "metadata": {},
   "outputs": [
    {
     "name": "stdout",
     "output_type": "stream",
     "text": [
      "                                                comments\n",
      "0                                             개같은 소리 하지마\n",
      "1                                              좌배 까는건 ㅇㅂ\n",
      "2            개소리야 니가 빨갱이를 옹호하고 드루킹을 ㅇㅇ짓이라고 말못해서 삐진거야 빨갱아\n",
      "3                                      애새끼가 초딩도 아니고 ㅋㅋㅋㅋ\n",
      "4      731부대의 후예라 그런지 가학적인 아이디어는 세계최고임 이래서 애교만 떨어도 돈 ...\n",
      "...                                                  ...\n",
      "16483                                둘이 친구인 데는 이유가 있었네요.\n",
      "16484                              톰과 잭이 둘이 친구군요? 이럴 수가.\n",
      "16485                           내일 드디어 개강이네. 개강 준비는 잘했어?\n",
      "16486            그럭저럭한 것 같아. 종강한 지 별로 안된 것 같은데 벌써 개강이라니.\n",
      "16487                                            좋은 소식이야\n",
      "\n",
      "[16488 rows x 1 columns]\n"
     ]
    },
    {
     "data": {
      "text/html": [
       "<div>\n",
       "<style scoped>\n",
       "    .dataframe tbody tr th:only-of-type {\n",
       "        vertical-align: middle;\n",
       "    }\n",
       "\n",
       "    .dataframe tbody tr th {\n",
       "        vertical-align: top;\n",
       "    }\n",
       "\n",
       "    .dataframe thead th {\n",
       "        text-align: right;\n",
       "    }\n",
       "</style>\n",
       "<table border=\"1\" class=\"dataframe\">\n",
       "  <thead>\n",
       "    <tr style=\"text-align: right;\">\n",
       "      <th></th>\n",
       "      <th>comments</th>\n",
       "      <th>label</th>\n",
       "    </tr>\n",
       "  </thead>\n",
       "  <tbody>\n",
       "    <tr>\n",
       "      <th>0</th>\n",
       "      <td>개같은 소리 하지마</td>\n",
       "      <td>1</td>\n",
       "    </tr>\n",
       "    <tr>\n",
       "      <th>1</th>\n",
       "      <td>좌배 까는건 ㅇㅂ</td>\n",
       "      <td>1</td>\n",
       "    </tr>\n",
       "    <tr>\n",
       "      <th>2</th>\n",
       "      <td>개소리야 니가 빨갱이를 옹호하고 드루킹을 ㅇㅇ짓이라고 말못해서 삐진거야 빨갱아</td>\n",
       "      <td>1</td>\n",
       "    </tr>\n",
       "    <tr>\n",
       "      <th>3</th>\n",
       "      <td>애새끼가 초딩도 아니고 ㅋㅋㅋㅋ</td>\n",
       "      <td>1</td>\n",
       "    </tr>\n",
       "    <tr>\n",
       "      <th>4</th>\n",
       "      <td>부대의 후예라 그런지 가학적인 아이디어는 세계최고임 이래서 애교만 떨어도 돈 벌리는...</td>\n",
       "      <td>1</td>\n",
       "    </tr>\n",
       "    <tr>\n",
       "      <th>...</th>\n",
       "      <td>...</td>\n",
       "      <td>...</td>\n",
       "    </tr>\n",
       "    <tr>\n",
       "      <th>16483</th>\n",
       "      <td>둘이 친구인 데는 이유가 있었네요</td>\n",
       "      <td>0</td>\n",
       "    </tr>\n",
       "    <tr>\n",
       "      <th>16484</th>\n",
       "      <td>톰과 잭이 둘이 친구군요 이럴 수가</td>\n",
       "      <td>0</td>\n",
       "    </tr>\n",
       "    <tr>\n",
       "      <th>16485</th>\n",
       "      <td>내일 드디어 개강이네 개강 준비는 잘했어</td>\n",
       "      <td>0</td>\n",
       "    </tr>\n",
       "    <tr>\n",
       "      <th>16486</th>\n",
       "      <td>그럭저럭한 것 같아 종강한 지 별로 안된 것 같은데 벌써 개강이라니</td>\n",
       "      <td>0</td>\n",
       "    </tr>\n",
       "    <tr>\n",
       "      <th>16487</th>\n",
       "      <td>좋은 소식이야</td>\n",
       "      <td>0</td>\n",
       "    </tr>\n",
       "  </tbody>\n",
       "</table>\n",
       "<p>16488 rows × 2 columns</p>\n",
       "</div>"
      ],
      "text/plain": [
       "                                                comments label\n",
       "0                                             개같은 소리 하지마     1\n",
       "1                                              좌배 까는건 ㅇㅂ     1\n",
       "2            개소리야 니가 빨갱이를 옹호하고 드루킹을 ㅇㅇ짓이라고 말못해서 삐진거야 빨갱아     1\n",
       "3                                      애새끼가 초딩도 아니고 ㅋㅋㅋㅋ     1\n",
       "4      부대의 후예라 그런지 가학적인 아이디어는 세계최고임 이래서 애교만 떨어도 돈 벌리는...     1\n",
       "...                                                  ...   ...\n",
       "16483                                 둘이 친구인 데는 이유가 있었네요     0\n",
       "16484                                톰과 잭이 둘이 친구군요 이럴 수가     0\n",
       "16485                             내일 드디어 개강이네 개강 준비는 잘했어     0\n",
       "16486              그럭저럭한 것 같아 종강한 지 별로 안된 것 같은데 벌써 개강이라니     0\n",
       "16487                                            좋은 소식이야     0\n",
       "\n",
       "[16488 rows x 2 columns]"
      ]
     },
     "execution_count": 59,
     "metadata": {},
     "output_type": "execute_result"
    }
   ],
   "source": [
    "#특수문자 제거\n",
    "import re\n",
    "\n",
    "df_only_comments = df.iloc[:,[0]]\n",
    "print(df_only_comments)\n",
    "comment_without_Special_Characters  = []\n",
    "for comment in df['comments'][:]:\n",
    "    comment_without_Special_Characters.append(re.sub(\"[^가-힣 ㄱ-ㅎ ㅏ-ㅣ \\\\s]\", \"\", comment )) #한글 아닌 것들 다 제거\n",
    "\n",
    "index = 0\n",
    "for comment in comment_without_Special_Characters:\n",
    "    df['comments'][index] = comment\n",
    "    index += 1\n",
    "\n",
    "df"
   ]
  },
  {
   "cell_type": "markdown",
   "id": "66aff3f9",
   "metadata": {},
   "source": [
    "## 1-1. 데이터 분석"
   ]
  },
  {
   "cell_type": "code",
   "execution_count": 60,
   "id": "1e2f4424",
   "metadata": {},
   "outputs": [
    {
     "name": "stdout",
     "output_type": "stream",
     "text": [
      "파일 크기: \n",
      "clean_dataset.csv             1.52MB\n"
     ]
    }
   ],
   "source": [
    "DATA_IN_PATH = '../../../big_data_sample/pbl/with_soa/'\n",
    "print(\"파일 크기: \")\n",
    "for file in os.listdir(DATA_IN_PATH):\n",
    "    if 'csv' in file and 'zip' not in file:\n",
    "        print(file.ljust(30)+ str(round(os.path.getsize(DATA_IN_PATH + file) / 1000000,\n",
    "                                       2))+ 'MB')"
   ]
  },
  {
   "cell_type": "code",
   "execution_count": 61,
   "id": "5875db44",
   "metadata": {},
   "outputs": [
    {
     "name": "stdout",
     "output_type": "stream",
     "text": [
      "the number of train data: 16488\n"
     ]
    }
   ],
   "source": [
    "print(\"the number of train data: {}\".format(len(df)))"
   ]
  },
  {
   "cell_type": "markdown",
   "id": "296480f9",
   "metadata": {},
   "source": [
    "<h3>(1) 텍스트 데이터의 길이 분석</h3>"
   ]
  },
  {
   "cell_type": "code",
   "execution_count": 62,
   "id": "4b8cc168",
   "metadata": {},
   "outputs": [],
   "source": [
    "df_text_length = df['comments'].apply(len)"
   ]
  },
  {
   "cell_type": "code",
   "execution_count": 63,
   "id": "1c82468f",
   "metadata": {},
   "outputs": [
    {
     "name": "stdout",
     "output_type": "stream",
     "text": [
      "comment 길이 최대 값: 1000\n",
      "comment 길이 평균 값: 30.79\n",
      "comment 길이 표준편차: 32.74\n",
      "comment 길이 중간 값: 25.0\n"
     ]
    }
   ],
   "source": [
    "print('comment 길이 최대 값: {}'.format(np.max(df_text_length)))\n",
    "print('comment 길이 평균 값: {:.2f}'.format(np.mean(df_text_length)))\n",
    "print('comment 길이 표준편차: {:.2f}'.format(np.std(df_text_length)))\n",
    "print('comment 길이 중간 값: {}'.format(np.median(df_text_length)))"
   ]
  },
  {
   "cell_type": "markdown",
   "id": "83462548",
   "metadata": {},
   "source": [
    "<h3>(2) 단어 단위 분석</h3>"
   ]
  },
  {
   "cell_type": "code",
   "execution_count": 64,
   "id": "e6a0ea4c",
   "metadata": {},
   "outputs": [],
   "source": [
    "df_word_counts = df['comments'].apply(lambda x:len(x.split(' ')))"
   ]
  },
  {
   "cell_type": "code",
   "execution_count": 65,
   "id": "0e6cea36",
   "metadata": {},
   "outputs": [
    {
     "data": {
      "text/plain": [
       "Text(0, 0.5, 'Prabability')"
      ]
     },
     "execution_count": 65,
     "metadata": {},
     "output_type": "execute_result"
    },
    {
     "data": {
      "image/png": "[encoded data removed]",
      "text/plain": [
       "<Figure size 1080x720 with 1 Axes>"
      ]
     },
     "metadata": {
      "needs_background": "light"
     },
     "output_type": "display_data"
    }
   ],
   "source": [
    "plt.figure(figsize=(15, 10))\n",
    "plt.hist(df_word_counts, bins=50, range=[0, 50], facecolor='r', density=True, label='train')\n",
    "plt.title('Normalised histogram of word count in comments', fontsize=15)\n",
    "plt.legend()\n",
    "plt.xlabel('Number of words', fontsize=15)\n",
    "plt.ylabel('Prabability', fontsize=15)"
   ]
  },
  {
   "cell_type": "code",
   "execution_count": 66,
   "id": "e05d4ca0",
   "metadata": {},
   "outputs": [
    {
     "name": "stdout",
     "output_type": "stream",
     "text": [
      "질문 단어 개수 최대 값: 197\n",
      "질문 단어 개수 평균 값: 7.60\n",
      "질문 단어 개수 표준편차: 7.33\n",
      "질문 단어 개수 중간 값: 6.5\n"
     ]
    }
   ],
   "source": [
    "print('질문 단어 개수 최대 값: {}'.format(np.max(df_word_counts)))\n",
    "print('질문 단어 개수 평균 값: {:.2f}'.format(np.mean(df_word_counts)))\n",
    "print('질문 단어 개수 표준편차: {:.2f}'.format(np.std(df_word_counts)))\n",
    "print('질문 단어 개수 중간 값: {}'.format(np.median(df_word_counts)))"
   ]
  },
  {
   "cell_type": "code",
   "execution_count": null,
   "id": "e225f568",
   "metadata": {},
   "outputs": [],
   "source": []
  }
 ],
 "metadata": {
  "kernelspec": {
   "display_name": "Python 3",
   "language": "python",
   "name": "python3"
  },
  "language_info": {
   "codemirror_mode": {
    "name": "ipython",
    "version": 3
   },
   "file_extension": ".py",
   "mimetype": "text/x-python",
   "name": "python",
   "nbconvert_exporter": "python",
   "pygments_lexer": "ipython3",
   "version": "3.6.13"
  }
 },
 "nbformat": 4,
 "nbformat_minor": 5
}
