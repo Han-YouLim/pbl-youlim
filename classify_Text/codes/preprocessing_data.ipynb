{
 "cells": [
  {
   "cell_type": "code",
   "execution_count": 1,
   "id": "45484413",
   "metadata": {},
   "outputs": [],
   "source": [
    "import numpy as np\n",
    "import pandas as pd\n",
    "import os\n",
    "import matplotlib.pyplot as plt\n",
    "import seaborn as sns\n",
    "from wordcloud import wordcloud\n",
    "#이는 IPython 에서 제공하는 Rich output 에 대한 표현 방식\n",
    "#%matplotlib inline #이 문구는 주피터에서만 되기 때문에 아래의 문구로 대체한다."
   ]
  },
  {
   "cell_type": "code",
   "execution_count": 2,
   "id": "97b961b3",
   "metadata": {},
   "outputs": [
    {
     "name": "stdout",
     "output_type": "stream",
     "text": [
      "file size : \n",
      "ratings.txt                   19.72MB\n",
      "ratings_test.txt              4.94MB\n",
      "ratings_train.txt             14.78MB\n",
      "         id                                           document  label\n",
      "0   9976970                                아 더빙.. 진짜 짜증나네요 목소리      0\n",
      "1   3819312                  흠...포스터보고 초딩영화줄....오버연기조차 가볍지 않구나      1\n",
      "2  10265843                                  너무재밓었다그래서보는것을추천한다      0\n",
      "3   9045019                      교도소 이야기구먼 ..솔직히 재미는 없다..평점 조정      0\n",
      "4   6483659  사이몬페그의 익살스런 연기가 돋보였던 영화!스파이더맨에서 늙어보이기만 했던 커스틴 ...      1\n",
      "total number of training data : 150000\n",
      "0    19\n",
      "1    33\n",
      "2    17\n",
      "3    29\n",
      "4    61\n",
      "Name: document, dtype: int64\n"
     ]
    }
   ],
   "source": [
    "DATA_IN_PATH = '../data/' #데이터가 존재하는 파일 경로\n",
    "print(\"file size : \")\n",
    "for file in os.listdir(DATA_IN_PATH):\n",
    "    if 'txt' in file:\n",
    "        print(file.ljust(30)+str(round(os.path.getsize(DATA_IN_PATH+file)/ 1000000, 2))+'MB')\n",
    "\n",
    "train_data = pd.read_csv(DATA_IN_PATH + 'ratings_train.txt', header = 0, delimiter = '\\t',quoting=3)\n",
    "print(train_data.head())\n",
    "print(\"total number of training data : {}\".format(len(train_data)))\n",
    "train_length = train_data['document'].astype(str).apply(len) #각 데이터에 대한 길이 값 추출\n",
    "print(train_length.head())"
   ]
  },
  {
   "cell_type": "code",
   "execution_count": 3,
   "id": "5a21a583",
   "metadata": {},
   "outputs": [
    {
     "data": {
      "image/png": "[encoded data removed]",
      "text/plain": [
       "<Figure size 864x360 with 1 Axes>"
      ]
     },
     "metadata": {
      "needs_background": "light"
     },
     "output_type": "display_data"
    }
   ],
   "source": [
    "#drawing histogram 전체 데이터에 대해 길이에 대한 히스토그램을 그린다.\n",
    "plt.figure(figsize=(12, 5))\n",
    "plt.hist(train_length, bins=200, alpha=0.5, color='r', label='word')\n",
    "plt.yscale('log', nonpositive='clip')\n",
    "plt.title('Log-Histogram of length of review')\n",
    "plt.xlabel('Length of review')\n",
    "plt.ylabel('Number of review')\n",
    "plt.show()"
   ]
  },
  {
   "cell_type": "code",
   "execution_count": null,
   "id": "a7b8cca5",
   "metadata": {},
   "outputs": [],
   "source": []
  }
 ],
 "metadata": {
  "kernelspec": {
   "display_name": "Python 3",
   "language": "python",
   "name": "python3"
  },
  "language_info": {
   "codemirror_mode": {
    "name": "ipython",
    "version": 3
   },
   "file_extension": ".py",
   "mimetype": "text/x-python",
   "name": "python",
   "nbconvert_exporter": "python",
   "pygments_lexer": "ipython3",
   "version": "3.6.13"
  }
 },
 "nbformat": 4,
 "nbformat_minor": 5
}
